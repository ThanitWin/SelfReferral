{
 "cells": [
  {
   "cell_type": "markdown",
   "metadata": {},
   "source": [
    "Retropaper drive : https://drive.google.com/drive/folders/0B1GBCbARKSMzMnJ5dmx0TUVDblE\n"
   ]
  },
  {
   "cell_type": "code",
   "execution_count": 26,
   "metadata": {
    "collapsed": true
   },
   "outputs": [],
   "source": [
    "import numpy as np\n",
    "import pandas as pd\n",
    "from collections import Counter\n",
    "from bokeh.plotting import figure, output_file, show\n",
    "import sys\n",
    "import datetime\n",
    "import re\n",
    "from matplotlib import pyplot as plt\n",
    "import pprint\n",
    "pp = pprint.PrettyPrinter(indent=4,depth=2)"
   ]
  },
  {
   "cell_type": "markdown",
   "metadata": {
    "heading_collapsed": true
   },
   "source": [
    "# Define Function"
   ]
  },
  {
   "cell_type": "code",
   "execution_count": 5,
   "metadata": {
    "collapsed": true,
    "hidden": true
   },
   "outputs": [],
   "source": [
    "global SAVETIC\n",
    "global TIC_ITER\n",
    "global TIC_TOC_LIST\n",
    "TIC_TOC_LIST = []\n",
    "SAVETIC= datetime.datetime.now()\n",
    "\n",
    "def tic() :\n",
    "    print(\"tic :: START, set iter = 0\")\n",
    "    global SAVETIC\n",
    "    global TIC_ITER\n",
    "    global TIC_TOC_LIST\n",
    "    SAVETIC = datetime.datetime.now()\n",
    "    TIC_ITER = 0\n",
    "    TIC_TOC_LIST = []\n",
    "    #return(SAVETIC)\n",
    "def toc(print_every = 1) :\n",
    "    global TIC_ITER\n",
    "    global TIC_TOC_LIST\n",
    "    TIC_ITER +=1\n",
    "    TIC_TOC_LIST.append( str(datetime.datetime.now()-SAVETIC))\n",
    "    if TIC_ITER%print_every ==0 :\n",
    "        print(\"toc :: %04d\"%TIC_ITER,datetime.datetime.now()-SAVETIC)\n",
    "\n",
    "def gettictoc():\n",
    "    return(TIC_TOC_LIST)\n",
    "\n",
    "def dir2FinanceYM(year = 2013 ,month = 1):\n",
    "    dirFinance = \"OPD5258\\\\TT256888-FFO\\\\%d\\\\TT256888-FFO-%02d%d.csv\"%(year,month,year);\n",
    "    dirFinance = \"Out_Patient_Data\\\\TT256888-FFO\\\\%d\\\\TT256888-FFO-%02d%d.csv\"%(year,month,year);\n",
    "    return(dirFinance )\n",
    "def dir2InfoYM(year = 2013 ,month = 1):\n",
    "    dirInfo = \"Out_Patient_Data\\\\TT256888-ICD10\\\\%d\\\\%02d%d.csv\"%(year,month,year);\n",
    "    return(dirInfo)\n",
    "\n",
    "# Change date --> day : Monday = 0\n",
    "def wod(yyyymmdd):\n",
    "    Y = int(str(yyyymmdd)[0:4])# - 543\n",
    "    M = int(str(yyyymmdd)[4:6])\n",
    "    D = int(str(yyyymmdd)[6:8])\n",
    "    wd = datetime.date(Y,M,D).weekday()\n",
    "    #days=[\"Monday\",\"Tuesday\",\"Wednesday\",\"Thursday\",\"Friday\",\"Saturday\",\"Sunday\"]\n",
    "    return(wd)\n"
   ]
  },
  {
   "cell_type": "code",
   "execution_count": 2,
   "metadata": {
    "collapsed": true,
    "hidden": true
   },
   "outputs": [],
   "source": [
    "PathPertinent = \"Pertinent_finding/\""
   ]
  },
  {
   "cell_type": "markdown",
   "metadata": {},
   "source": [
    "# ==Presentation Goal=="
   ]
  },
  {
   "cell_type": "markdown",
   "metadata": {},
   "source": [
    "## 0.1 Well Established Goal"
   ]
  },
  {
   "cell_type": "markdown",
   "metadata": {},
   "source": [
    "1. First Episode\n",
    "    1. Insurance_Group\n",
    "        + Universal Coverage (UC)\n",
    "        + Social Security Scheme (SSS)\n",
    "        + Civil Servants’ Medical Benefit Scheme (CSMBS)\n",
    "        + others\n",
    "    1. Payment Coverage\n",
    "        + Cover ~ DirectPay คือตัดผ่านห้องยาเลยไม่ต้องไปเบิกเอง จริงๆใช้ไม่ได้กับ CSMBS เพราะ CSMBS อาจไป\n",
    "        + Not cover ~ \n",
    "    1. Demographic data over 7 years\n",
    "    2. BOD subgroup : เลือกจาก http://bodthai.net/download/รายงานภาระโรค-2556/\n",
    "        + I10 ไม่มีอย่างอื่นร่วม\n",
    "        + E119 ไม่มีอย่างอื่นร่วม\n",
    "        + J40 : Bronchitis\n",
    "        + J43 : Emphysema\n",
    "        + J450 : asthma\n",
    "        + J44 Chronic COPD\n",
    "        + A15 : TB Lung\n",
    "        + A150-9 : TB Lung\n",
    "        + Diarrhea หลากหลายมาก ยากเกินไป Peptic Ulcer --> แยกconditionที่ต้องส่องกล้องไมไ่ด้\n",
    "    3. Trends of number, visit, cost, proportion, subgroup\n",
    "    4. Statistical analysis : linear regressing for trend summaries \n",
    "2. Second Episode\n",
    "    1. \n"
   ]
  },
  {
   "cell_type": "markdown",
   "metadata": {},
   "source": [
    "## 0.2 Persueing Goal"
   ]
  },
  {
   "cell_type": "markdown",
   "metadata": {},
   "source": [
    "+ Option อื่นสำหรับ Primary Care ได้แก่\n",
    "    + https://www.nuemd.com/icd-10/common-codes/primary-care\n",
    "    + wiki : example: hypertension, angina, diabetes, asthma, COPD, depression and anxiety, back pain, arthritis or thyroid dysfunction."
   ]
  },
  {
   "cell_type": "code",
   "execution_count": null,
   "metadata": {
    "collapsed": true
   },
   "outputs": [],
   "source": [
    "selectedOPD_Totally.csv\n",
    "DemographicData_subgroupNoRight.csv\n",
    "DemographicData_subgr_othUCWrong.csv\n",
    "DemographicData_subgr_othSSWrong.csv\n",
    "DemographicData_subgr_DisableWrong.csv\n",
    "DemographicData_subgr_cost.csv\n",
    "DemographicData.csv"
   ]
  },
  {
   "cell_type": "markdown",
   "metadata": {
    "heading_collapsed": true
   },
   "source": [
    "# 1. Load Matched Data"
   ]
  },
  {
   "cell_type": "code",
   "execution_count": 6,
   "metadata": {
    "collapsed": false,
    "hidden": true
   },
   "outputs": [
    {
     "name": "stdout",
     "output_type": "stream",
     "text": [
      "tic :: START, set iter = 0\n",
      "toc :: 0012 0:00:22.662981\n",
      "toc :: 0024 0:00:46.099196\n",
      "toc :: 0036 0:01:09.579239\n",
      "toc :: 0048 0:01:35.125612\n",
      "toc :: 0060 0:02:01.671376\n",
      "toc :: 0072 0:02:28.869959\n",
      "toc :: 0084 0:02:56.795861\n"
     ]
    }
   ],
   "source": [
    "path = \"Intermediate/FilterMatchedSave/\"\n",
    "tic()\n",
    "LoadLst = [0]*84\n",
    "for itr in range(0,84):\n",
    "    fileName = path+\"allMatched%02d.csv\"%itr\n",
    "#     fileName = path+\"filteredMatched%02d.csv\"%itr\n",
    "    LoadLst[itr] = pd.read_csv(fileName, encoding='utf-8-sig', sep=';')\n",
    "    \n",
    "    # เนื่องจากยังไม่ได้แปลง patient type ต้องแปลงก่อนใช้\n",
    "    LoadLst[itr] = LoadLst[itr].rename(\n",
    "    index = str, columns = {'patient_type_name_set': \"right_at_payment_set\", \n",
    "               'right_set' : \"right_at_regist_set\"}\n",
    "    )\n",
    "    toc(12)\n",
    "temptb = LoadLst[0]"
   ]
  },
  {
   "cell_type": "markdown",
   "metadata": {},
   "source": [
    "# 2. Assign [Insurance] and [Payment] Group"
   ]
  },
  {
   "cell_type": "markdown",
   "metadata": {
    "heading_collapsed": true
   },
   "source": [
    "## 2.1 [run me] _is_?"
   ]
  },
  {
   "cell_type": "code",
   "execution_count": 7,
   "metadata": {
    "code_folding": [],
    "collapsed": true,
    "hidden": true
   },
   "outputs": [],
   "source": [
    "#PaymentGroup Assignment : ต้อง run isGov, isUC, isSS\n",
    "def isbotGov(tb):\n",
    "    bool_srs= tb[\"right_at_regist_set\"].str.contains('ธนาคารแห่งประเทศไทย')|\\\n",
    "            tb[\"right_at_payment_set\"].str.contains('ธนาคารแห่งประเทศไทย')\n",
    "    return(bool_srs)\n",
    "\n",
    "def isbkkGov(tb):\n",
    "    bool_srs= tb[\"right_at_regist_set\"].str.contains('กทม')|\\\n",
    "            tb[\"right_at_payment_set\"].str.contains('กทม')\n",
    "    return(bool_srs)\n",
    "\n",
    "def isgenGov(tb):\n",
    "    bool_srs= tb[\"right_at_regist_set\"].str.contains('ข้าราชการ')|\\\n",
    "            tb[\"right_at_payment_set\"].str.contains('ข้าราชการ')\n",
    "    return(bool_srs)\n",
    "\n",
    "def isSS(tb):\n",
    "    bool_srs= tb[\"right_at_regist_set\"].str.contains('ประกันสังคม')|\\\n",
    "            tb[\"right_at_payment_set\"].str.contains('ประกันสังคม')\n",
    "    return(bool_srs)\n",
    "\n",
    "def isUC(tb):\n",
    "    bool_srs= tb[\"right_at_regist_set\"].str.contains('บัตรทอง')|\\\n",
    "            tb[\"right_at_payment_set\"].str.contains('บัตรทอง')\n",
    "    return(bool_srs)"
   ]
  },
  {
   "cell_type": "markdown",
   "metadata": {
    "heading_collapsed": true
   },
   "source": [
    "## 2.2 [run me] Add type"
   ]
  },
  {
   "cell_type": "code",
   "execution_count": 8,
   "metadata": {
    "code_folding": [],
    "collapsed": true,
    "hidden": true
   },
   "outputs": [],
   "source": [
    "\n",
    "def addtype_n_DrtPay(tb): # function หลักเลย , Pass by reference\n",
    "#     input : table ที่มี col [right_at_regist_set],[right_at_payment_set]\n",
    "#     output : \n",
    "\n",
    "    #How to use: ใช้ update  ไม่มี return\n",
    "    #    Update table ให้มี \n",
    "    #        'typePt' = type of patient  \n",
    "    #        'drtPay' = Direct payment  --> เป็น boolean  ว่าได้เบิกจ่ายตรงจาก UC SS Gov หรือเปล่า สิทธิอื่นไม่สน จ่ายเพิ่มไม่เป็นไร \n",
    "    \n",
    "    # UC,SS มีคำว่า ประกัน กับ บัตรทองเหมือนกันเลยกรองมาทีเดียวได้\n",
    "    \n",
    "    if False:#แก้ปัญหา Warning , Toggle off ได้ถ้าเกิดว่ามันทำให้ผลเพี้ยน\n",
    "        tb = tb.reset_index(drop='index')\n",
    "        # Problem is that it makes function becomes [Pass by value] rather than reference\n",
    "    \n",
    "    isbotGovsrs = isbotGov(tb)\n",
    "    isbkkGovsrs = isbkkGov(tb)\n",
    "    isgenGovsrs = isgenGov(tb)\n",
    "    isSSsrs = isSS(tb)\n",
    "    isUCsrs = isUC(tb)\n",
    "    \n",
    "    \n",
    "    tb['typePt'] = isbotGovsrs|isbkkGovsrs|isgenGovsrs|isSSsrs|isUCsrs\n",
    "    hasRight = isbotGovsrs|isbkkGovsrs|isgenGovsrs|isSSsrs|isUCsrs\n",
    "    \n",
    "    # สร้าง DirectPay ให้เป็นเหมือนกับ typePt เลย\n",
    "    \n",
    "    #====================== Type of Patient===============================\n",
    "    \n",
    "    #Mask Gov\n",
    "        # ทำไปข้างบนแล้วเพราะ มี boolean แยกต่างหากสำหรับ Gov: bot,bkk,gen \n",
    "    \n",
    "    # Mask SS\n",
    "    SS_siMask = tb[\"right_at_regist_set\"].str.contains('ผู้ป่วยประกันสังคมของ ร.พ.ศิริราช')|\\\n",
    "            tb[\"right_at_payment_set\"].str.contains('ผู้ป่วยประกันสังคมของ ร.พ.ศิริราช')\n",
    "    SS_othMask = tb[\"right_at_regist_set\"].str.contains('ผู้ป่วยประกันสังคมของ ร.พ.อื่น')|\\\n",
    "            tb[\"right_at_payment_set\"].str.contains('ผู้ป่วยประกันสังคมของ ร.พ.อื่น')|\\\n",
    "            tb[\"right_at_regist_set\"].str.contains('สิทธิประกันสังคมกรณีทุพลภาพ')\n",
    "        \n",
    "    #Mask UC\n",
    "    UC_siMask = tb[\"right_at_regist_set\"].str.contains('บัตรทอง โรงพยาบาลศิริราช')|\\\n",
    "            tb[\"right_at_payment_set\"].str.contains('บัตรทอง โรงพยาบาลศิริราช')\n",
    "    UC_othMask = tb[\"right_at_regist_set\"].str.contains('บัตรทอง โรงพยาบาลอื่น')|\\\n",
    "            tb[\"right_at_payment_set\"].str.contains('บัตรทอง โรงพยาบาลอื่น')\n",
    "    \n",
    "    \n",
    "    # Note : ธนาคารแห่งประเทศไทยเป็นfirst Priorityเลยเพราะว่า สิทธินี้ดีสุด และมีข้าราชการบางคนใช้สิทธิธนาคารแห่งประเทศไทย \n",
    "    # Heirachical Masking\n",
    "        # Mask ธนาคารแห่งประเทศไทยหลังสุดจะได้ไม่โดนทับ --> กทม --> ราชการทั่วไป --> Mask SS --> Mask UC gเตรียมโดนทับได้เลย\n",
    "        # mask ด้วย priority ต่ำกว่าก่อน แล้วค่อยทับด้วย priority สูงกว่าเรื่อยๆ\n",
    "    tb['typePt'] = tb['typePt'].mask( UC_othMask,'othUC')\n",
    "    tb['typePt'] = tb['typePt'].mask( UC_siMask ,'siUC')\n",
    "    tb['typePt'] = tb['typePt'].mask( SS_othMask,'othSS')\n",
    "    tb['typePt'] = tb['typePt'].mask( SS_siMask ,'siSS')\n",
    "    tb['typePt'] = tb['typePt'].mask(isgenGovsrs,'genGov')\n",
    "    tb['typePt'] = tb['typePt'].mask(isbkkGovsrs,'bkkGov')\n",
    "    tb['typePt'] = tb['typePt'].mask(isbotGovsrs,'botGov')\n",
    "    tb['typePt'] = tb['typePt'].astype(str) \n",
    "    \n",
    "    useRight =  (\\\n",
    "                    tb[\"right_at_payment_set\"].str.contains('ต้นสังกัด')|\\\n",
    "                    tb[\"right_at_payment_set\"].str.contains('ข้าราชการ')|\\\n",
    "                    tb[\"right_at_payment_set\"].str.contains('ธนาคารแห่งประเทศไทย')|\\\n",
    "                    tb[\"right_at_payment_set\"].str.contains('กทม')|\\\n",
    "                    tb[\"right_at_payment_set\"].str.contains('ประกันสังคม')|\\\n",
    "                    tb[\"right_at_payment_set\"].str.contains('บัตรทอง')\\\n",
    "                )\n",
    "    \n",
    "    tb['drtPay'] = hasRight.mask(useRight,'hasClaim')\n",
    "    tb['drtPay'] = tb['drtPay'].mask(hasRight & (~useRight),'noClaim')\n",
    "    tb['drtPay'] = tb['drtPay'].mask(~hasRight,'noRight')\n",
    "    tb['drtPay'] = tb['drtPay'].astype(str)\n",
    "    #print(tb.columns)\n",
    "    \n",
    "def addtypeUCDrtPay(tb):\n",
    "    # (SI, other) x ( drtPay, noRec) direct payment, no record\n",
    "    tb['typeUC'] = isUC(tb)\n",
    "    UC_siMask = tb[\"right_at_regist_set\"].str.contains('บัตรทอง โรงพยาบาลศิริราช')|\\\n",
    "            tb[\"right_at_payment_set\"].str.contains('บัตรทอง โรงพยาบาลศิริราช')\n",
    "    UC_othMask = tb[\"right_at_regist_set\"].str.contains('บัตรทอง โรงพยาบาลอื่น')|\\\n",
    "            tb[\"right_at_payment_set\"].str.contains('บัตรทอง โรงพยาบาลอื่น')\n",
    "    tb['typeUC'] = tb['typeUC'].mask(UC_siMask,'siUC')\n",
    "    tb['typeUC'] = tb['typeUC'].mask(UC_siMask,'othUC')\n",
    "    return(bool_temp)\n",
    "\n",
    "\n",
    "def whichPaymentGroup():\n",
    "    # there is 4 registered group\n",
    "        # 1. UCsi\n",
    "        # 2. UCother\n",
    "        # 3. SSsi\n",
    "        # 4. SSother\n",
    "        # 5. Gov\n",
    "#     output = UC,SP,\n",
    "    pass\n",
    "\n",
    "def isSelfPay(RightAtPaymentSet):\n",
    "#     เนื่องจาก right@paymentSet --> อาจมีหลายสิทธิอยู่ด้วยกัน \n",
    "#     #case_gov\n",
    "#     right_at_regist == 'ข้าราชการ' 'ธนาคารแห่งประเทศไทย'  \n",
    "#     right_at_payment == 'ผู้ป่วยทั่วไป'\n",
    "    \n",
    "#     #case_non_gov\n",
    "#     right_at_regist == any \n",
    "#         # ส่วนลดบุคลลากรก็ถือว่า selfpay\n",
    "#     right_at_payment == 'ผู้ป่วยทั่วไป'\n",
    "    \n",
    "#     ข้าราชการ/เบิกจ่ายตรง กทม. --> ข้าราชการ เบิกจ่ายตรง กทม.: 0\n",
    "#     ธนาคารแห่งประเทศไทย /  ทั่วไป --> \n",
    "#     ข้าราชการ --> ทั่วไป    : -1 ให้ \n",
    "#     Anything --> ทั่วไป    : 1\n",
    "        \n",
    "#     interpretation = 1'selfpay'\n",
    "#     interpretation = 0'noselfpay'\n",
    "#     interpretation = -1 'unsure' e.g. case government\n",
    "    return(interpretation)\n"
   ]
  },
  {
   "cell_type": "code",
   "execution_count": 28,
   "metadata": {
    "collapsed": false,
    "hidden": true
   },
   "outputs": [
    {
     "name": "stdout",
     "output_type": "stream",
     "text": [
      "Counter({   'False': 68423,\n",
      "            'genGov': 59003,\n",
      "            'othUC': 20252,\n",
      "            'siSS': 8750,\n",
      "            'bkkGov': 4763,\n",
      "            'siUC': 3955,\n",
      "            'othSS': 2560,\n",
      "            'botGov': 1168})\n",
      "Counter({'hasClaim': 91183, 'noRight': 68423, 'noClaim': 9268})\n"
     ]
    }
   ],
   "source": [
    "addtype_n_DrtPay(temptb)\n",
    "pp.pprint(Counter(temptb.typePt)) \n",
    "pp.pprint(Counter(temptb.drtPay)) "
   ]
  },
  {
   "cell_type": "markdown",
   "metadata": {
    "heading_collapsed": true
   },
   "source": [
    "## 2.3 [run me] ClinName2Code"
   ]
  },
  {
   "cell_type": "code",
   "execution_count": 29,
   "metadata": {
    "collapsed": true,
    "hidden": true
   },
   "outputs": [],
   "source": [
    "def clinName2Code(word):\n",
    "    #Extract [numCode] from [ThaiClinicName]\n",
    "    # numCode is inthe form of (abcd) where abce is integer\n",
    "    numlst = re.findall(r\"\\((\\d+)\\)\",word)\n",
    "    numlst = list(map(str,numlst))\n",
    "    if len(numlst) > 0 :\n",
    "        out = numlst[0]\n",
    "    else :\n",
    "        out = ''\n",
    "        #out = re.search(r\"\\((\\d+)\\)\",word).group(1)\n",
    "    return(out)\n",
    "\n",
    "# The Excels act as dictionary \n",
    "#     Name of Clinic\n",
    "#     exclude\n",
    "#     exclude4Gov\n",
    "#     GIS\n",
    "#     selectedOPD\n",
    "#     investigation\n",
    "#     lv_OPD\n",
    "\n",
    "ClinicOverallTable = pd.read_excel(\"dict/clinicName2excl2select2dpt_20170426.xlsx\",sheetname=\"dict\")\n",
    "\n",
    "ClinicOverallTable['numcode'] = ClinicOverallTable.NameOfClinic.map(clinName2Code)\n",
    "\n",
    "# We have to clear all Non-code clinic out\n",
    "ClinicOverallTable = ClinicOverallTable[ClinicOverallTable['numcode'] != '']\n",
    "\n",
    "ClinicOverallTable.reindex()\n",
    "numCode2dpt_dict = ClinicOverallTable.set_index('numcode')[['assignDepartment']].fillna('???').to_dict()\n",
    "numCode2dpt_dict = numCode2dpt_dict['assignDepartment']\n",
    "    \n",
    "ClinicOverallTable.reindex()\n",
    "numCode2exclude_dict = ClinicOverallTable.set_index('numcode')[['exclude']].fillna(0).to_dict()\n",
    "numCode2exclude_dict = numCode2exclude_dict['exclude']\n",
    "\n",
    "ClinicOverallTable.reindex()\n",
    "numCode2exclude4Gov_dict = ClinicOverallTable.set_index('numcode')[['exclude4Gov']].fillna(0).to_dict()\n",
    "numCode2exclude4Gov_dict = numCode2exclude4Gov_dict['exclude4Gov']\n",
    "\n",
    "ClinicOverallTable.reindex()\n",
    "numCode2surveyOPD_dict = ClinicOverallTable.set_index('numcode')[['selectedOPD']].fillna(0).to_dict()\n",
    "numCode2surveyOPD_dict = numCode2surveyOPD_dict['selectedOPD']"
   ]
  },
  {
   "cell_type": "markdown",
   "metadata": {
    "heading_collapsed": true
   },
   "source": [
    "## 2.4 [run me] Candidate Clinic ?"
   ]
  },
  {
   "cell_type": "code",
   "execution_count": 33,
   "metadata": {
    "collapsed": false,
    "hidden": true
   },
   "outputs": [
    {
     "data": {
      "text/html": [
       "<div>\n",
       "<table border=\"1\" class=\"dataframe\">\n",
       "  <thead>\n",
       "    <tr style=\"text-align: right;\">\n",
       "      <th></th>\n",
       "      <th>dpt_set</th>\n",
       "      <th>candidate</th>\n",
       "      <th>clinic_set</th>\n",
       "      <th>typePt</th>\n",
       "      <th>drtPay</th>\n",
       "    </tr>\n",
       "  </thead>\n",
       "  <tbody>\n",
       "    <tr>\n",
       "      <th>0</th>\n",
       "      <td>rehab||rehab</td>\n",
       "      <td>True</td>\n",
       "      <td>กิจกรรมบำบัด(1011)ตึกศรีสังวาลย์ ชั้น4        ...</td>\n",
       "      <td>False</td>\n",
       "      <td>noRight</td>\n",
       "    </tr>\n",
       "    <tr>\n",
       "      <th>1</th>\n",
       "      <td>rehab||rehab</td>\n",
       "      <td>True</td>\n",
       "      <td>กิจกรรมบำบัด(1011)ตึกศรีสังวาลย์ ชั้น4        ...</td>\n",
       "      <td>False</td>\n",
       "      <td>noRight</td>\n",
       "    </tr>\n",
       "    <tr>\n",
       "      <th>2</th>\n",
       "      <td></td>\n",
       "      <td>False</td>\n",
       "      <td>ห้องตรวจอุบัติเหตุ (18)                       ...</td>\n",
       "      <td>False</td>\n",
       "      <td>noRight</td>\n",
       "    </tr>\n",
       "    <tr>\n",
       "      <th>3</th>\n",
       "      <td></td>\n",
       "      <td>False</td>\n",
       "      <td>ห้องตรวจอุบัติเหตุ (18)                       ...</td>\n",
       "      <td>False</td>\n",
       "      <td>noRight</td>\n",
       "    </tr>\n",
       "    <tr>\n",
       "      <th>4</th>\n",
       "      <td>med</td>\n",
       "      <td>True</td>\n",
       "      <td>คลีนิก lab(90)ตึกผู้ป่วยนอก ชั้น 1            ...</td>\n",
       "      <td>othUC</td>\n",
       "      <td>hasClaim</td>\n",
       "    </tr>\n",
       "  </tbody>\n",
       "</table>\n",
       "</div>"
      ],
      "text/plain": [
       "        dpt_set candidate                                         clinic_set  \\\n",
       "0  rehab||rehab      True  กิจกรรมบำบัด(1011)ตึกศรีสังวาลย์ ชั้น4        ...   \n",
       "1  rehab||rehab      True  กิจกรรมบำบัด(1011)ตึกศรีสังวาลย์ ชั้น4        ...   \n",
       "2                   False  ห้องตรวจอุบัติเหตุ (18)                       ...   \n",
       "3                   False  ห้องตรวจอุบัติเหตุ (18)                       ...   \n",
       "4           med      True  คลีนิก lab(90)ตึกผู้ป่วยนอก ชั้น 1            ...   \n",
       "\n",
       "  typePt    drtPay  \n",
       "0  False   noRight  \n",
       "1  False   noRight  \n",
       "2  False   noRight  \n",
       "3  False   noRight  \n",
       "4  othUC  hasClaim  "
      ]
     },
     "execution_count": 33,
     "metadata": {},
     "output_type": "execute_result"
    }
   ],
   "source": [
    "def clinSet2clinCodeSet(word):# this function is ??? used in Selected OPD\n",
    "    # require : numCode2dpt_dict\n",
    "    # input example : 'กิจกรรมบำบัด(1011)ตึกศรีสังวาลย์ ชั้น4||บำบัดทางกระดูกและข้อผู้ใหญ่(1009)ตึกศรีสังวาลย์ ชั้น3'\n",
    "    # output example : 1011||1009\n",
    "    numlst = re.findall(r\"\\((\\d+)\\)\",word)\n",
    "    numlst = list(map(str,numlst))\n",
    "    joinedOutput = \"||\".join(numlst)\n",
    "    return(joinedOutput)\n",
    "\n",
    "def clinSet2dptSet(word): # this function is not used anymore\n",
    "    # require : numCode2dpt_dict\n",
    "    # input example : 'กิจกรรมบำบัด(1011)ตึกศรีสังวาลย์ ชั้น4||บำบัดทางกระดูกและข้อผู้ใหญ่(1009)ตึกศรีสังวาลย์ ชั้น3'\n",
    "    # output example : rehab||rehab\n",
    "    numlst = re.findall(r\"\\((\\d+)\\)\",word)\n",
    "    clincodelst = [ numCode2dpt_dict[numcode] for numcode in numlst]\n",
    "    joinedOutput = \"||\".join(clincodelst)\n",
    "    return(joinedOutput)\n",
    "\n",
    "    #Example\n",
    "    # temptb['dpt'] = temptb.clinic_set.map(clinSet2dptSet)\n",
    "    # temptb.head(5)[['dpt','clinic_set']]\n",
    "\n",
    "def codeSet2includeSet(word): # this function is not used anymore\n",
    "    # require : numCode2exclude_dict\n",
    "    # input example : 'กิจกรรมบำบัด(1011)ตึกศรีสังวาลย์ ชั้น4||บำบัดทางกระดูกและข้อผู้ใหญ่(1009)ตึกศรีสังวาลย์ ชั้น3'\n",
    "    # output example : 1 || 1  (~ include || include)\n",
    "    numlst = re.findall(r\"\\((\\d+)\\)\",word)\n",
    "    includeLst = [ int(numCode2exclude_dict[numcode]==0) for numcode in numlst]\n",
    "    includeLst = map(str,includeLst)\n",
    "    joinedOutput = \"||\".join(includeLst)\n",
    "    return(joinedOutput)\n",
    "    #Example\n",
    "    # temptb['isExcludeSet'] = temptb.clinic_set.map(codeSet2includeSet)\n",
    "    # temptb.head(5)[['isExcludeSet','clinic_set']]\n",
    "\n",
    "def clinSet2included_dptSet(word): #USE!\n",
    "    # require : numCode2dpt_dict\n",
    "    # input example : 'ห้องตรวจอุบัติเหตุ (18)||บำบัดทางกระดูกและข้อผู้ใหญ่(1009)ตึกศรีสังวาลย์ ชั้น3'\n",
    "    # intermediate example : surgery || rehab\n",
    "    # output example :  rehab\n",
    "    numlst = re.findall(r\"\\((\\d+)\\)\",word)\n",
    "    includedDptLst = [ numCode2dpt_dict[numcode] for numcode in numlst if numCode2exclude_dict[numcode]==0 ]\n",
    "    joinedOutput = \"||\".join(includedDptLst)\n",
    "    \n",
    "    return(joinedOutput)\n",
    "\n",
    "def clinSet2included_dpt4GovSet(word): #USE! for Goverment Record Selection\n",
    "    # require : numCode2dpt_dict\n",
    "    # input example : 'ห้องตรวจอุบัติเหตุ (18)||บำบัดทางกระดูกและข้อผู้ใหญ่(1009)ตึกศรีสังวาลย์ ชั้น3'\n",
    "    # intermediate example : surgery || rehab\n",
    "    # output example :  rehab\n",
    "    numlst = re.findall(r\"\\((\\d+)\\)\",word)\n",
    "    includedDptLst = [ numCode2dpt_dict[numcode] for numcode in numlst if numCode2exclude4Gov_dict[numcode]==0 ]\n",
    "    joinedOutput = \"||\".join(includedDptLst)    \n",
    "    return(joinedOutput)\n",
    "\n",
    "temptb['dpt_set'] = temptb.clinic_set.map(clinSet2included_dptSet)\n",
    "temptb['candidate'] = (temptb['dpt_set']!='')\n",
    "addtype_n_DrtPay(temptb)\n",
    "temptb.head(5)[['dpt_set','candidate','clinic_set','typePt','drtPay']]\n"
   ]
  },
  {
   "cell_type": "code",
   "execution_count": null,
   "metadata": {
    "collapsed": false,
    "hidden": true
   },
   "outputs": [],
   "source": []
  },
  {
   "cell_type": "code",
   "execution_count": null,
   "metadata": {
    "collapsed": true,
    "hidden": true
   },
   "outputs": [],
   "source": []
  },
  {
   "cell_type": "markdown",
   "metadata": {
    "hidden": true
   },
   "source": [
    "#### CountCoverageNClaim_appropriate_hour :\n",
    "อันนี้เป็นแม่แบบให้กับ Demographic ด้วย\n",
    "คือ count coverage Claim โดยที่ gov นับรวม คลินิกนอกเวลาด้วย\n"
   ]
  },
  {
   "cell_type": "code",
   "execution_count": null,
   "metadata": {
    "collapsed": true,
    "hidden": true
   },
   "outputs": [],
   "source": [
    "ListOfDct = []\n",
    "tic()\n",
    "for temptb in LoadLst[80:84]:\n",
    "    temptb['dpt_set'] = temptb.clinic_set.map(clinSet2included_dptSet)\n",
    "    temptb['dpt4Gov_set'] = temptb.clinic_set.map(clinSet2included_dpt4GovSet)\n",
    "    addtype_n_DrtPay(temptb)# add 'typePt','drtPay'\n",
    "    isGov_srs = temptb['typePt'].str.contains('Gov')\n",
    "    temptb['appropriate_dpt_set'] = temptb['dpt_set'].copy()\n",
    "    if True : # toggle True ถ้าอยากให้ ราชการ รวม คลินิกนอกเวลาด้วย\n",
    "        temptb['appropriate_dpt_set'][isGov_srs] = temptb['dpt4Gov_set'][isGov_srs]\n",
    "    hasAtLeast1Dpt_tb = temptb[ (temptb['appropriate_dpt_set']!='')]\n",
    "    \n",
    "    #addtype_n_DrtPay(hasAtLeast1Dpt_tb)\n",
    "    toc(12)\n",
    "#     [['candidate','clinic_set','typePt','drtPay']]\n",
    "    tmp =  hasAtLeast1Dpt_tb\\\n",
    "        .sort_values(['typePt','drtPay'])\\\n",
    "        .groupby(['typePt','drtPay']).count()['sex']\n",
    "\n",
    "    ListOfDct.append(tmp.to_dict())\n",
    "\n",
    "\n",
    "# Export to CSV&Excel\n",
    "tempFileName = \"Pertinent_finding/CountCoverageNClaim_appropriate_hour__\"\n",
    "# Save : as-csv\n",
    "pd.concat(map(pd.Series,ListOfDct), axis=1).reset_index()\\\n",
    ".fillna(0)\\\n",
    ".to_csv(tempFileName+'.csv', encoding='utf-8-sig')\n",
    "\n",
    "# Save as Excel\n",
    "writer = pd.ExcelWriter(tempFileName+'.xls')\n",
    "pd.concat(map(pd.Series,ListOfDct), axis=1).reset_index()\\\n",
    ".fillna(0)\\\n",
    ".to_excel(writer,'Sheet1')\n",
    "writer.save()"
   ]
  },
  {
   "cell_type": "code",
   "execution_count": null,
   "metadata": {
    "collapsed": true,
    "hidden": true
   },
   "outputs": [],
   "source": []
  },
  {
   "cell_type": "markdown",
   "metadata": {},
   "source": [
    "# END\n"
   ]
  },
  {
   "cell_type": "code",
   "execution_count": null,
   "metadata": {
    "collapsed": true
   },
   "outputs": [],
   "source": []
  }
 ],
 "metadata": {
  "kernelspec": {
   "display_name": "Python [default]",
   "language": "python",
   "name": "python3"
  },
  "language_info": {
   "codemirror_mode": {
    "name": "ipython",
    "version": 3
   },
   "file_extension": ".py",
   "mimetype": "text/x-python",
   "name": "python",
   "nbconvert_exporter": "python",
   "pygments_lexer": "ipython3",
   "version": "3.6.0"
  }
 },
 "nbformat": 4,
 "nbformat_minor": 2
}
